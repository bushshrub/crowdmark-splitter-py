{
 "cells": [
  {
   "cell_type": "code",
   "execution_count": 1,
   "id": "initial_id",
   "metadata": {
    "collapsed": true,
    "ExecuteTime": {
     "end_time": "2023-10-08T21:50:14.333223Z",
     "start_time": "2023-10-08T21:50:14.125161Z"
    }
   },
   "outputs": [],
   "source": [
    "from pypdf import PdfReader"
   ]
  },
  {
   "cell_type": "code",
   "execution_count": 2,
   "outputs": [],
   "source": [
    "file = PdfReader(\"MATA31-1.pdf\")"
   ],
   "metadata": {
    "collapsed": false,
    "ExecuteTime": {
     "end_time": "2023-10-08T21:50:14.347731600Z",
     "start_time": "2023-10-08T21:50:14.239199600Z"
    }
   },
   "id": "3d2316d2553d810a"
  },
  {
   "cell_type": "code",
   "execution_count": 4,
   "outputs": [],
   "source": [
    "p1, p2 = file.pages[0:2]"
   ],
   "metadata": {
    "collapsed": false,
    "ExecuteTime": {
     "end_time": "2023-10-08T21:50:45.319218100Z",
     "start_time": "2023-10-08T21:50:45.311193Z"
    }
   },
   "id": "5f761031c7ee916a"
  },
  {
   "cell_type": "code",
   "execution_count": 5,
   "outputs": [
    {
     "data": {
      "text/plain": "{'/Annots': [IndirectObject(193, 0, 2483019644496),\n  IndirectObject(194, 0, 2483019644496),\n  IndirectObject(195, 0, 2483019644496),\n  IndirectObject(196, 0, 2483019644496),\n  IndirectObject(197, 0, 2483019644496),\n  IndirectObject(198, 0, 2483019644496),\n  IndirectObject(199, 0, 2483019644496),\n  IndirectObject(200, 0, 2483019644496),\n  IndirectObject(201, 0, 2483019644496),\n  IndirectObject(202, 0, 2483019644496),\n  IndirectObject(203, 0, 2483019644496),\n  IndirectObject(204, 0, 2483019644496),\n  IndirectObject(205, 0, 2483019644496),\n  IndirectObject(206, 0, 2483019644496),\n  IndirectObject(207, 0, 2483019644496),\n  IndirectObject(208, 0, 2483019644496),\n  IndirectObject(209, 0, 2483019644496),\n  IndirectObject(210, 0, 2483019644496),\n  IndirectObject(211, 0, 2483019644496),\n  IndirectObject(212, 0, 2483019644496),\n  IndirectObject(213, 0, 2483019644496),\n  IndirectObject(214, 0, 2483019644496),\n  IndirectObject(215, 0, 2483019644496),\n  IndirectObject(216, 0, 2483019644496),\n  IndirectObject(217, 0, 2483019644496),\n  IndirectObject(218, 0, 2483019644496),\n  IndirectObject(219, 0, 2483019644496),\n  IndirectObject(220, 0, 2483019644496),\n  IndirectObject(221, 0, 2483019644496),\n  IndirectObject(222, 0, 2483019644496)],\n '/Contents': {'/Filter': '/FlateDecode'},\n '/MediaBox': [0, 0, 612, 792],\n '/Parent': {'/Count': 6,\n  '/Kids': [IndirectObject(177, 0, 2483019644496),\n   IndirectObject(1, 0, 2483019644496),\n   IndirectObject(3, 0, 2483019644496),\n   IndirectObject(5, 0, 2483019644496),\n   IndirectObject(7, 0, 2483019644496),\n   IndirectObject(9, 0, 2483019644496)],\n  '/Parent': {'/Count': 23,\n   '/Kids': [IndirectObject(290, 0, 2483019644496),\n    IndirectObject(299, 0, 2483019644496),\n    IndirectObject(307, 0, 2483019644496),\n    IndirectObject(308, 0, 2483019644496)],\n   '/Type': '/Pages'},\n  '/Type': '/Pages'},\n '/Resources': {'/ColorSpace': {'/pgfprgb': ['/Pattern', '/DeviceRGB']},\n  '/ExtGState': {},\n  '/Font': {'/F28': {'/BaseFont': '/IKZJXI+CMR10',\n    '/FirstChar': 12,\n    '/FontDescriptor': {'/Ascent': 694,\n     '/CapHeight': 683,\n     '/CharSet': '/A/B/C/D/F/G/H/I/L/M/N/O/P/Q/R/S/T/U/W/a/b/bracketright/c/colon/comma/d/e/eight/equal/f/ffi/fi/five/four/g/h/hyphen/i/j/k/l/m/n/nine/o/one/p/parenleft/parenright/period/plus/q/quotedblright/quoteright/r/s/seven/six/t/three/two/u/v/w/x/y/z/zero',\n     '/Descent': -194,\n     '/Flags': 4,\n     '/FontBBox': [-40, -250, 1009, 750],\n     '/FontFile': {'/Filter': '/FlateDecode',\n      '/Length1': 2431,\n      '/Length2': 20743,\n      '/Length3': 0},\n     '/FontName': '/IKZJXI+CMR10',\n     '/ItalicAngle': 0,\n     '/StemV': 69,\n     '/Type': '/FontDescriptor',\n     '/XHeight': 431},\n    '/LastChar': 122,\n    '/Subtype': '/Type1',\n    '/ToUnicode': {'/Filter': '/FlateDecode'},\n    '/Type': '/Font',\n    '/Widths': [555.6,\n     555.6,\n     833.3,\n     833.3,\n     277.8,\n     305.6,\n     500,\n     500,\n     500,\n     500,\n     500,\n     750,\n     444.4,\n     500,\n     722.2,\n     777.8,\n     500,\n     902.8,\n     1013.9,\n     777.8,\n     277.8,\n     277.8,\n     500,\n     833.3,\n     500,\n     833.3,\n     777.8,\n     277.8,\n     388.9,\n     388.9,\n     500,\n     777.8,\n     277.8,\n     333.3,\n     277.8,\n     500,\n     500,\n     500,\n     500,\n     500,\n     500,\n     500,\n     500,\n     500,\n     500,\n     500,\n     277.8,\n     277.8,\n     277.8,\n     777.8,\n     472.2,\n     472.2,\n     777.8,\n     750,\n     708.3,\n     722.2,\n     763.9,\n     680.6,\n     652.8,\n     784.7,\n     750,\n     361.1,\n     513.9,\n     777.8,\n     625,\n     916.7,\n     750,\n     777.8,\n     680.6,\n     777.8,\n     736.1,\n     555.6,\n     722.2,\n     750,\n     750,\n     1027.8,\n     750,\n     750,\n     611.1,\n     277.8,\n     500,\n     277.8,\n     500,\n     277.8,\n     277.8,\n     500,\n     555.6,\n     444.4,\n     555.6,\n     444.4,\n     305.6,\n     500,\n     555.6,\n     277.8,\n     305.6,\n     527.8,\n     277.8,\n     833.3,\n     555.6,\n     500,\n     555.6,\n     527.8,\n     391.7,\n     394.4,\n     388.9,\n     555.6,\n     527.8,\n     722.2,\n     527.8,\n     527.8,\n     444.4]},\n   '/F39': {'/BaseFont': '/JQZYLJ+CMR17',\n    '/FirstChar': 52,\n    '/FontDescriptor': {'/Ascent': 694,\n     '/CapHeight': 683,\n     '/CharSet': '/A/e/four/g/i/m/n/s/t',\n     '/Descent': -195,\n     '/Flags': 4,\n     '/FontBBox': [-33, -250, 945, 749],\n     '/FontFile': {'/Filter': '/FlateDecode',\n      '/Length1': 1484,\n      '/Length2': 7631,\n      '/Length3': 0},\n     '/FontName': '/JQZYLJ+CMR17',\n     '/ItalicAngle': 0,\n     '/StemV': 53,\n     '/Type': '/FontDescriptor',\n     '/XHeight': 430},\n    '/LastChar': 116,\n    '/Subtype': '/Type1',\n    '/ToUnicode': {'/Filter': '/FlateDecode'},\n    '/Type': '/Font',\n    '/Widths': [458.6,\n     458.6,\n     458.6,\n     458.6,\n     458.6,\n     458.6,\n     249.6,\n     249.6,\n     249.6,\n     719.8,\n     432.5,\n     432.5,\n     719.8,\n     693.3,\n     654.3,\n     667.6,\n     706.6,\n     628.2,\n     602.1,\n     726.3,\n     693.3,\n     327.6,\n     471.5,\n     719.4,\n     576,\n     850,\n     693.3,\n     719.8,\n     628.2,\n     719.8,\n     680.5,\n     510.9,\n     667.6,\n     693.3,\n     693.3,\n     954.5,\n     693.3,\n     693.3,\n     563.1,\n     249.6,\n     458.6,\n     249.6,\n     458.6,\n     249.6,\n     249.6,\n     458.6,\n     510.9,\n     406.4,\n     510.9,\n     406.4,\n     275.8,\n     458.6,\n     510.9,\n     249.6,\n     275.8,\n     484.7,\n     249.6,\n     772.1,\n     510.9,\n     458.6,\n     510.9,\n     484.7,\n     354.1,\n     359.4,\n     354.1]},\n   '/F42': {'/BaseFont': '/JYXWOO+CMR12',\n    '/FirstChar': 48,\n    '/FontDescriptor': {'/Ascent': 694,\n     '/CapHeight': 683,\n     '/CharSet': '/R/S/X/b/e/i/m/o/p/r/t/three/two/u/zero',\n     '/Descent': -194,\n     '/Flags': 4,\n     '/FontBBox': [-34, -251, 988, 750],\n     '/FontFile': {'/Filter': '/FlateDecode',\n      '/Length1': 1575,\n      '/Length2': 8589,\n      '/Length3': 0},\n     '/FontName': '/JYXWOO+CMR12',\n     '/ItalicAngle': 0,\n     '/StemV': 65,\n     '/Type': '/FontDescriptor',\n     '/XHeight': 431},\n    '/LastChar': 117,\n    '/Subtype': '/Type1',\n    '/ToUnicode': {'/Filter': '/FlateDecode'},\n    '/Type': '/Font',\n    '/Widths': [489.6,\n     489.6,\n     489.6,\n     489.6,\n     489.6,\n     489.6,\n     489.6,\n     489.6,\n     489.6,\n     489.6,\n     272,\n     272,\n     272,\n     761.6,\n     462.4,\n     462.4,\n     761.6,\n     734,\n     693.4,\n     707.2,\n     747.8,\n     666.2,\n     639,\n     768.3,\n     734,\n     353.2,\n     503,\n     761.2,\n     611.8,\n     897.2,\n     734,\n     761.6,\n     666.2,\n     761.6,\n     720.6,\n     544,\n     707.2,\n     734,\n     734,\n     1006,\n     734,\n     734,\n     598.4,\n     272,\n     489.6,\n     272,\n     489.6,\n     272,\n     272,\n     489.6,\n     544,\n     435.2,\n     544,\n     435.2,\n     299.2,\n     489.6,\n     544,\n     272,\n     299.2,\n     516.8,\n     272,\n     816,\n     544,\n     489.6,\n     544,\n     516.8,\n     380.8,\n     386.2,\n     380.8,\n     544]},\n   '/F88': {'/BaseFont': '/TCGVVM+CMBX12',\n    '/FirstChar': 46,\n    '/FontDescriptor': {'/Ascent': 694,\n     '/CapHeight': 686,\n     '/CharSet': '/A/C/P/Q/a/b/c/d/e/eight/f/five/four/g/i/l/n/nine/o/one/period/r/s/seven/six/t/three/two/u/zero',\n     '/Descent': -194,\n     '/Flags': 4,\n     '/FontBBox': [-53, -251, 1139, 750],\n     '/FontFile': {'/Filter': '/FlateDecode',\n      '/Length1': 1822,\n      '/Length2': 10756,\n      '/Length3': 0},\n     '/FontName': '/TCGVVM+CMBX12',\n     '/ItalicAngle': 0,\n     '/StemV': 109,\n     '/Type': '/FontDescriptor',\n     '/XHeight': 444},\n    '/LastChar': 117,\n    '/Subtype': '/Type1',\n    '/ToUnicode': {'/Filter': '/FlateDecode'},\n    '/Type': '/Font',\n    '/Widths': [312.5,\n     562.5,\n     562.5,\n     562.5,\n     562.5,\n     562.5,\n     562.5,\n     562.5,\n     562.5,\n     562.5,\n     562.5,\n     562.5,\n     312.5,\n     312.5,\n     342.6,\n     875,\n     531.2,\n     531.2,\n     875,\n     849.5,\n     799.8,\n     812.5,\n     862.3,\n     738.4,\n     707.2,\n     884.3,\n     879.6,\n     419,\n     581,\n     880.8,\n     675.9,\n     1067.1,\n     879.6,\n     844.9,\n     768.5,\n     844.9,\n     839.1,\n     625,\n     782.4,\n     864.6,\n     849.5,\n     1162,\n     849.5,\n     849.5,\n     687.5,\n     312.5,\n     581,\n     312.5,\n     562.5,\n     312.5,\n     312.5,\n     546.9,\n     625,\n     500,\n     625,\n     513.3,\n     343.7,\n     562.5,\n     625,\n     312.5,\n     343.7,\n     593.7,\n     312.5,\n     937.5,\n     625,\n     562.5,\n     625,\n     593.7,\n     459.5,\n     443.8,\n     437.5,\n     625]},\n   '/F91': {'/BaseFont': '/JEKAHL+CMBX10',\n    '/FirstChar': 46,\n    '/FontDescriptor': {'/Ascent': 694,\n     '/CapHeight': 686,\n     '/CharSet': '/A/C/L/P/Q/S/a/e/eight/f/five/four/i/l/m/n/nine/o/one/p/period/r/s/seven/six/t/three/two/u/zero',\n     '/Descent': -194,\n     '/Flags': 4,\n     '/FontBBox': [-56, -250, 1164, 750],\n     '/FontFile': {'/Filter': '/FlateDecode',\n      '/Length1': 1822,\n      '/Length2': 12849,\n      '/Length3': 0},\n     '/FontName': '/JEKAHL+CMBX10',\n     '/ItalicAngle': 0,\n     '/StemV': 114,\n     '/Type': '/FontDescriptor',\n     '/XHeight': 444},\n    '/LastChar': 117,\n    '/Subtype': '/Type1',\n    '/ToUnicode': {'/Filter': '/FlateDecode'},\n    '/Type': '/Font',\n    '/Widths': [319.4,\n     575,\n     575,\n     575,\n     575,\n     575,\n     575,\n     575,\n     575,\n     575,\n     575,\n     575,\n     319.4,\n     319.4,\n     350,\n     894.4,\n     543.1,\n     543.1,\n     894.4,\n     869.4,\n     818.1,\n     830.6,\n     881.9,\n     755.6,\n     723.6,\n     904.2,\n     900,\n     436.1,\n     594.4,\n     901.4,\n     691.7,\n     1091.7,\n     900,\n     863.9,\n     786.1,\n     863.9,\n     862.5,\n     638.9,\n     800,\n     884.7,\n     869.4,\n     1188.9,\n     869.4,\n     869.4,\n     702.8,\n     319.4,\n     602.8,\n     319.4,\n     575,\n     319.4,\n     319.4,\n     559,\n     638.9,\n     511.1,\n     638.9,\n     527.1,\n     351.4,\n     575,\n     638.9,\n     319.4,\n     351.4,\n     606.9,\n     319.4,\n     958.3,\n     638.9,\n     575,\n     638.9,\n     606.9,\n     473.6,\n     453.6,\n     447.2,\n     638.9]}},\n  '/Pattern': {},\n  '/ProcSet': ['/PDF', '/Text']},\n '/Type': '/Page'}"
     },
     "execution_count": 5,
     "metadata": {},
     "output_type": "execute_result"
    }
   ],
   "source": [
    "p1"
   ],
   "metadata": {
    "collapsed": false,
    "ExecuteTime": {
     "end_time": "2023-10-08T21:50:46.093605500Z",
     "start_time": "2023-10-08T21:50:46.078451800Z"
    }
   },
   "id": "cfda6dcf8b9588fd"
  },
  {
   "cell_type": "code",
   "execution_count": null,
   "outputs": [],
   "source": [],
   "metadata": {
    "collapsed": false
   },
   "id": "343edd96ca29e697"
  }
 ],
 "metadata": {
  "kernelspec": {
   "display_name": "Python 3",
   "language": "python",
   "name": "python3"
  },
  "language_info": {
   "codemirror_mode": {
    "name": "ipython",
    "version": 2
   },
   "file_extension": ".py",
   "mimetype": "text/x-python",
   "name": "python",
   "nbconvert_exporter": "python",
   "pygments_lexer": "ipython2",
   "version": "2.7.6"
  }
 },
 "nbformat": 4,
 "nbformat_minor": 5
}
